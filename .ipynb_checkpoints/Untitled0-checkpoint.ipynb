{
 "metadata": {
  "name": "",
  "signature": "sha256:5dae47b49a13625a76d65acb0a8aa924bca4a21b35ef3b06e1044a4a8cabece0"
 },
 "nbformat": 3,
 "nbformat_minor": 0,
 "worksheets": []
}